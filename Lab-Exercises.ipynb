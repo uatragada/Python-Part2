{
 "cells": [
  {
   "cell_type": "markdown",
   "metadata": {},
   "source": [
    "# Lab Exercises\n",
    "\n",
    "## Introduction to Python, Part 2\n",
    "\n",
    "### Questions/Office Hours\n",
    "\n",
    "If you have questions about this week's lab **ANY** TA for this class can help you with any problems in office hours. That being said, if you need help over email it is best to email **YOUR** TA.\n",
    "\n",
    "You can also always ask the instructor for help with skills labs (even though they are not covered in lecture). You can email the instructor of come to his office hours."
   ]
  },
  {
   "cell_type": "markdown",
   "metadata": {},
   "source": [
    "----"
   ]
  },
  {
   "cell_type": "markdown",
   "metadata": {},
   "source": [
    "## Exercises\n",
    "\n",
    "As with last week, these exercises are short and primarily drawn from your reading for this week, chapters 4, 5, and 6 of *Python for Everyone*. For your reference:\n",
    "\n",
    "* [Chapter 4: Functions](https://www.py4e.com/html3/04-functions)\n",
    "* [Chapter 5: Iterations](https://www.py4e.com/html3/05-iterations)\n",
    "* [Chapter 6: Strings](https://www.py4e.com/html3/06-strings)\n",
    "\n",
    "Before you begin, a reminder to use [Read-Search-Ask](https://medium.freecodecamp.org/read-search-dont-be-afraid-to-ask-743a23c411b4) if you get stuck. *Bonne chance!*\n",
    "\n",
    "![](https://media.giphy.com/media/SmFXBM4HuN344/giphy.gif)"
   ]
  },
  {
   "cell_type": "markdown",
   "metadata": {},
   "source": [
    "----"
   ]
  },
  {
   "cell_type": "markdown",
   "metadata": {},
   "source": [
    "#### **Exercise 1**\n",
    "\n",
    "###### sections to reference: [4.6](https://www.py4e.com/html3/04-functions#adding-new-functions)\n",
    "\n",
    "Tell me, in your own words, what the `def` keyword does. You don't need to write an essay, just a sentence or two will do."
   ]
  },
  {
   "cell_type": "markdown",
   "metadata": {},
   "source": [
    "It defines a function in python. "
   ]
  },
  {
   "cell_type": "markdown",
   "metadata": {},
   "source": [
    "#### **Exercise 2**\n",
    "\n",
    "###### sections to reference: [4.1](https://www.py4e.com/html3/04-functions#function-calls), last week's lab\n",
    "\n",
    "What Python **function calls** have you used before in this class? Make a Markdown list of them, and for each one, list the function *name*, the *argument* (or arguments) of the function, and what the *result* is.\n",
    "\n",
    "Now, go to [this Python documentation page](https://docs.python.org/3/library/functions.html). Pick one of the functions in the table at the top, and **tell me** the function name, argument or arguments, and what its result is. You can jump to a description of the function by clicking on it in the table."
   ]
  },
  {
   "cell_type": "markdown",
   "metadata": {},
   "source": [
    "* print()\n",
    "* input()\n",
    "* range()\n",
    "\n",
    "abs(x)\n",
    "* function name - abs\n",
    "* argument - x \n",
    "* result - absolute value of x\n",
    "\n"
   ]
  },
  {
   "cell_type": "markdown",
   "metadata": {},
   "source": [
    "#### **Exercise 3**\n",
    "\n",
    "###### sections to reference: [4.7](https://www.py4e.com/html3/04-functions#definitions-and-uses), [4.8](https://www.py4e.com/html3/04-functions#flow-of-execution)\n",
    "\n",
    "Look at the code block below. Write down your prediction for what it's going to print out. Then, run it! Was your prediction correct? Tell me yes or no, and if no, tell me why not."
   ]
  },
  {
   "cell_type": "code",
   "execution_count": 6,
   "metadata": {},
   "outputs": [
    {
     "name": "stdout",
     "output_type": "stream",
     "text": [
      "Foo\n",
      "Bar\n",
      "Foo\n",
      "Foo\n",
      "Bar\n"
     ]
    }
   ],
   "source": [
    "def apples():\n",
    "    print(\"Foo\")\n",
    "\n",
    "def bananas():\n",
    "    print(\"Bar\")\n",
    "\n",
    "def pineapples():\n",
    "    apples()\n",
    "    bananas()\n",
    "\n",
    "apples()\n",
    "bananas()\n",
    "apples()\n",
    "pineapples()"
   ]
  },
  {
   "cell_type": "markdown",
   "metadata": {},
   "source": [
    "Prediction\n",
    "\n",
    "- Foo\n",
    "- Bar\n",
    "- Foo\n",
    "- Foo\n",
    "- Bar\n",
    "\n",
    "Prediciton was accurate"
   ]
  },
  {
   "cell_type": "markdown",
   "metadata": {},
   "source": [
    "#### **Exercise 4**\n",
    "\n",
    "###### sections to reference: [4.4](https://www.py4e.com/html3/04-functions#math-functions), [4.5](https://www.py4e.com/html3/04-functions#random-numbers)\n",
    "\n",
    "You're going to write a program that gives a user a certain number of random integers between a specified upper and lower bound. So, you need to **ask the user** for three things: \n",
    "\n",
    "1. how many integers they want\n",
    "2. the lower bound (the number that all of your random integers should be *bigger than*), and\n",
    "3. the upper bound (the number that all of your random integers should be *smaller than*)\n",
    "\n",
    "After you ask the user for those things, you want to **generate integers** between those bounds, so each of your integers should fit the following formula:\n",
    "\n",
    "$$lower\\_bound \\leq your\\_integer \\leq upper\\_bound$$\n",
    "\n",
    "You don't have to worry about duplicates or anything, so the best way to do it is to **print each integer** as you generate it. \n",
    "\n",
    "**HINT:** You generate random integers with the `random.randint()` function, so what package do you have to *import* to use that function?"
   ]
  },
  {
   "cell_type": "code",
   "execution_count": 7,
   "metadata": {},
   "outputs": [
    {
     "name": "stdout",
     "output_type": "stream",
     "text": [
      "1469\n",
      "2825\n",
      "372\n",
      "1310\n",
      "1880\n",
      "1521\n",
      "2776\n",
      "1078\n",
      "1595\n",
      "1180\n",
      "338\n",
      "1550\n",
      "382\n",
      "1760\n",
      "1560\n",
      "2885\n",
      "1284\n",
      "949\n",
      "2962\n",
      "2165\n",
      "1536\n",
      "563\n",
      "3536\n",
      "1123\n",
      "415\n",
      "334\n",
      "694\n",
      "4034\n",
      "2555\n",
      "1359\n",
      "2156\n",
      "3383\n",
      "3968\n",
      "2277\n",
      "3022\n",
      "3807\n",
      "3283\n",
      "787\n",
      "719\n",
      "3729\n",
      "2439\n",
      "3710\n",
      "3763\n",
      "3029\n",
      "2537\n",
      "3376\n",
      "3944\n",
      "494\n",
      "3850\n",
      "2996\n",
      "4086\n",
      "49\n",
      "3289\n",
      "2702\n",
      "3680\n",
      "2653\n",
      "3217\n",
      "1328\n",
      "3348\n",
      "786\n",
      "906\n",
      "1250\n",
      "2185\n",
      "130\n",
      "434\n",
      "2202\n",
      "1740\n",
      "88\n",
      "586\n",
      "2127\n",
      "41\n",
      "925\n",
      "369\n",
      "609\n",
      "3971\n",
      "4050\n",
      "3713\n",
      "3291\n",
      "4135\n",
      "1475\n",
      "1929\n",
      "549\n",
      "2288\n",
      "3855\n",
      "803\n",
      "3599\n",
      "3249\n",
      "2577\n",
      "2697\n",
      "2237\n",
      "2359\n",
      "3572\n",
      "1891\n",
      "79\n",
      "3724\n",
      "2123\n",
      "715\n",
      "1641\n",
      "1363\n",
      "2799\n",
      "820\n",
      "3183\n",
      "231\n",
      "1399\n",
      "2999\n",
      "2699\n",
      "2334\n",
      "401\n",
      "1715\n",
      "3380\n",
      "3038\n",
      "679\n",
      "2865\n",
      "1473\n",
      "2754\n",
      "908\n",
      "1495\n",
      "1614\n",
      "2267\n",
      "3882\n",
      "3320\n",
      "1451\n",
      "1266\n",
      "822\n",
      "2465\n",
      "68\n",
      "3548\n",
      "1724\n",
      "111\n",
      "3410\n",
      "420\n",
      "171\n",
      "1906\n",
      "830\n",
      "1845\n",
      "133\n",
      "932\n",
      "1749\n",
      "686\n",
      "4132\n",
      "1266\n",
      "3797\n",
      "3764\n",
      "2984\n",
      "3675\n",
      "626\n",
      "4141\n",
      "2976\n",
      "939\n",
      "3308\n",
      "2216\n",
      "3053\n",
      "2645\n",
      "966\n",
      "3169\n",
      "2605\n",
      "3457\n",
      "3310\n",
      "1432\n",
      "2583\n",
      "3790\n",
      "1376\n",
      "1198\n",
      "2721\n",
      "2919\n",
      "138\n",
      "1312\n",
      "944\n",
      "3122\n",
      "1098\n",
      "2735\n",
      "1625\n",
      "2251\n",
      "2641\n",
      "3791\n",
      "1591\n",
      "2485\n",
      "1350\n",
      "3561\n",
      "1271\n",
      "1647\n",
      "2907\n",
      "28\n",
      "3749\n",
      "3858\n",
      "2482\n",
      "2766\n",
      "3893\n",
      "1871\n",
      "3986\n",
      "4118\n",
      "1676\n",
      "37\n",
      "773\n",
      "2169\n",
      "1720\n",
      "2218\n",
      "2090\n",
      "122\n",
      "311\n",
      "3659\n",
      "200\n",
      "2965\n",
      "1013\n",
      "3030\n",
      "1857\n",
      "138\n",
      "126\n",
      "3045\n",
      "2926\n",
      "819\n",
      "4019\n",
      "2939\n",
      "2050\n",
      "3035\n",
      "1382\n",
      "3427\n",
      "3096\n",
      "2004\n",
      "2506\n",
      "1607\n",
      "235\n",
      "1063\n",
      "738\n",
      "1537\n",
      "95\n",
      "454\n",
      "1663\n",
      "4065\n",
      "2125\n",
      "3710\n",
      "2600\n",
      "1192\n",
      "2090\n",
      "1666\n",
      "76\n",
      "3258\n",
      "346\n",
      "2132\n",
      "1174\n",
      "3785\n",
      "136\n",
      "525\n",
      "921\n",
      "737\n",
      "3076\n",
      "2324\n",
      "2717\n",
      "4111\n",
      "3009\n",
      "2724\n",
      "2129\n",
      "1886\n",
      "1496\n",
      "1859\n",
      "777\n",
      "3374\n",
      "1033\n",
      "3962\n",
      "589\n",
      "2700\n",
      "4007\n",
      "3645\n",
      "1875\n",
      "1399\n",
      "2904\n",
      "2843\n",
      "2228\n",
      "2886\n",
      "2410\n",
      "396\n",
      "1264\n",
      "1437\n",
      "2087\n",
      "2759\n",
      "2159\n",
      "3861\n",
      "204\n",
      "3953\n",
      "1651\n",
      "2167\n",
      "787\n",
      "306\n",
      "856\n",
      "524\n",
      "2846\n",
      "1071\n",
      "2542\n",
      "1803\n",
      "150\n",
      "1125\n",
      "475\n",
      "2222\n",
      "3929\n",
      "1694\n",
      "991\n",
      "3765\n",
      "2342\n",
      "3299\n",
      "3847\n",
      "236\n",
      "1510\n",
      "605\n",
      "2600\n",
      "3682\n",
      "3020\n",
      "3842\n",
      "1315\n",
      "3895\n",
      "1925\n",
      "1739\n",
      "2339\n",
      "1212\n",
      "3057\n",
      "1800\n",
      "3138\n",
      "2902\n",
      "2327\n",
      "2577\n",
      "3960\n",
      "3117\n"
     ]
    }
   ],
   "source": [
    "import random\n",
    "\n",
    "integer_count = int(input(prompt = \"How many Integers do you want?\"))\n",
    "lower = int(input(prompt=\"What is the lower bound?\"))\n",
    "upper = int(input(prompt=\"What is the upper bound?\")) \n",
    "\n",
    "for i in range(0, integer_count):\n",
    "    print(random.randint(lower,upper))\n"
   ]
  },
  {
   "cell_type": "markdown",
   "metadata": {},
   "source": [
    "#### **Exercise 5**\n",
    "\n",
    "###### sections to reference: [5.5](https://www.py4e.com/html3/05-iterations#definite-loops-using-for)\n",
    "\n",
    "Write a program that wishes a happy fall to a list of your friends. Declare a list of names, and add as many names as you want. Then, using a for loop, print out the message \"Happy fall,\" and each name on the list. "
   ]
  },
  {
   "cell_type": "code",
   "execution_count": 10,
   "metadata": {},
   "outputs": [
    {
     "name": "stdout",
     "output_type": "stream",
     "text": [
      "Happy fall, Adan\n",
      "Happy fall, John\n",
      "Happy fall, Khalil\n",
      "Happy fall, Nico\n",
      "Happy fall, Conrad\n"
     ]
    }
   ],
   "source": [
    "names = [\"Adan\", \"John\", \"Khalil\", \"Nico\", \"Conrad\"]\n",
    "\n",
    "for name in names:\n",
    "    print(\"Happy fall, \" + name)"
   ]
  },
  {
   "cell_type": "markdown",
   "metadata": {},
   "source": [
    "#### **Exercise 6**\n",
    "\n",
    "###### sections to reference: [5.3](https://www.py4e.com/html3/05-iterations#infinite-loops), [5.7](https://www.py4e.com/html3/05-iterations#counting-and-summing-loops)\n",
    "\n",
    "Write a program that **lets the user enter** as many integers as they want. When any input that's not an integer is entered, the user is done entering integers. After they're done, print out the **average** of all the integers entered.\n",
    "\n",
    "Be sure to test this with a wide range of numbers, to make sure it's doing what you want it to."
   ]
  },
  {
   "cell_type": "code",
   "execution_count": 22,
   "metadata": {},
   "outputs": [
    {
     "name": "stdout",
     "output_type": "stream",
     "text": [
      "1055561.6666666667\n"
     ]
    }
   ],
   "source": [
    "nums = []\n",
    "while True:\n",
    "    try:\n",
    "        x = int(input(\"Enter an integer\"))\n",
    "        nums.append(x)\n",
    "    except:\n",
    "        break\n",
    "\n",
    "try:\n",
    "    print(sum(nums)/len(nums))\n",
    "except:\n",
    "    print(\"Add some numbers first!\")"
   ]
  },
  {
   "cell_type": "markdown",
   "metadata": {},
   "source": [
    "#### **Exercise 7**\n",
    "\n",
    "###### sections to reference: [6.3](https://www.py4e.com/html3/06-strings#traversal-through-a-string-with-a-loop), [6.6](https://www.py4e.com/html3/06-strings#looping-and-counting)\n",
    "\n",
    "Write a program that lets a user **enter a string**, and have your program **how many** vowels and consonants are in the word. ('Y' is always a vowel.)\n",
    "\n",
    "Don't worry about making this run infinitely, you don't have to process more than one word per run of the program. Also, you're going to want to convert the string to all lower-case before you do any comparisons to it. \n",
    "\n",
    "Finally, once you have the number of vowels, you don't have to loop through the word *again* to test for consonants. How can you find the number of consonants in a word with just the number of vowels?"
   ]
  },
  {
   "cell_type": "code",
   "execution_count": 27,
   "metadata": {},
   "outputs": [
    {
     "name": "stdout",
     "output_type": "stream",
     "text": [
      "Vowel Count: 5\n",
      "Consanant Count: 3\n"
     ]
    }
   ],
   "source": [
    "vowels = [\"a\",\"e\",\"i\",\"o\",\"u\",\"y\"]\n",
    "word = input(prompt = \"Gimme a word\").lower()\n",
    "count = 0\n",
    "\n",
    "for char in word:\n",
    "    if char in vowels:\n",
    "        count += 1\n",
    "\n",
    "print(\"Vowel Count: \" + str(count) + \"\\nConsanant Count: \" + str(len(word)- count))"
   ]
  },
  {
   "cell_type": "markdown",
   "metadata": {},
   "source": [
    "#### **Exercise 8**\n",
    "\n",
    "###### sections to reference: [6.9](https://www.py4e.com/html3/06-strings#string-methods), Python docs\n",
    "\n",
    "Take a moment and read through the standard string methods that Python provides [here](https://docs.python.org/library/stdtypes.html#string-methods). You should try to keep those methods and what they can do in the back of your mind, as they can come in very handy.\n",
    "\n",
    "Your programming exercise is very open-ended: **write a program** that uses at least three of those string methods. You don't have to take any user input, although you could if you wanted. You don't have to define any functions, although you probably should if your program is doing a lot of different things. \n",
    "\n",
    "The only thing that is required, besides the string methods, is to **comment your code**. Use the `#` character at the end of a line of code, and describe what's going on. That's how you'll be graded on this assignment: how well your comments match up with what your code actually does.\n",
    "\n",
    "Have fun!"
   ]
  },
  {
   "cell_type": "code",
   "execution_count": 6,
   "metadata": {},
   "outputs": [
    {
     "name": "stdout",
     "output_type": "stream",
     "text": [
      "eijaofiuerhagi@pitt\n",
      "uhqiuheafgi@eeeewwwww\n"
     ]
    }
   ],
   "source": [
    "school_emails = []\n",
    "while True:\n",
    "    try:\n",
    "        email = input(prompt = \"Enter your email\").lower()\n",
    "        if email == \"quit\":\n",
    "            break\n",
    "        if email.endswith(\".edu\"):\n",
    "            email = email.split(\".\")[0]\n",
    "            if email.endswith(\"psu\"):\n",
    "                email = email.replace(\"psu\",\"eeeewwwww\")\n",
    "            school_emails.append(email)   \n",
    "    except:\n",
    "        print(\"broke\")\n",
    "        break\n",
    "\n",
    "\n",
    "for name in school_emails:\n",
    "    print(name)\n",
    "\n",
    "\n"
   ]
  },
  {
   "cell_type": "markdown",
   "metadata": {},
   "source": [
    "#### **Exercise 9**\n",
    "\n",
    "###### sections to reference: [6.4](https://www.py4e.com/html3/06-strings#string-slices), [6.10](https://www.py4e.com/html3/06-strings#parsing-strings)\n",
    "![jeff](https://media.giphy.com/media/ZLEdByf49a2XK/giphy.gif)\n",
    "\n",
    "Below, I've given you a string from a spam filter. Using string methods, get rid of everything before the colon and the spacing until you have just the number. Then, convert the number into a float, and convert it into a percentage. Print out the percentage"
   ]
  },
  {
   "cell_type": "code",
   "execution_count": 7,
   "metadata": {},
   "outputs": [
    {
     "name": "stdout",
     "output_type": "stream",
     "text": [
      "84.75%\n"
     ]
    }
   ],
   "source": [
    "spam_string = 'X-DSPAM-Confidence: 0.8475 '\n",
    "\n",
    "# your code goes here\n",
    "\n",
    "spam_string = str(float(spam_string.split(\": \")[1]) * 100) + \"%\"\n",
    "print(spam_string)\n",
    "\n"
   ]
  }
 ],
 "metadata": {
  "kernelspec": {
   "display_name": "Python 3.8.6 32-bit",
   "language": "python",
   "name": "python3"
  },
  "language_info": {
   "codemirror_mode": {
    "name": "ipython",
    "version": 3
   },
   "file_extension": ".py",
   "mimetype": "text/x-python",
   "name": "python",
   "nbconvert_exporter": "python",
   "pygments_lexer": "ipython3",
   "version": "3.8.6"
  },
  "vscode": {
   "interpreter": {
    "hash": "75e4a6a75c2bafdb358241a31c28830e81db8b6e5287e59fc181d3e0eb9324ab"
   }
  }
 },
 "nbformat": 4,
 "nbformat_minor": 4
}
